{
  "nbformat": 4,
  "nbformat_minor": 0,
  "metadata": {
    "colab": {
      "provenance": [],
      "authorship_tag": "ABX9TyNnRaisrMLg9PPK0prHnYYf",
      "include_colab_link": true
    },
    "kernelspec": {
      "name": "python3",
      "display_name": "Python 3"
    },
    "language_info": {
      "name": "python"
    }
  },
  "cells": [
    {
      "cell_type": "markdown",
      "metadata": {
        "id": "view-in-github",
        "colab_type": "text"
      },
      "source": [
        "<a href=\"https://colab.research.google.com/github/eriqnasareth/python_tests/blob/main/testando_python.ipynb\" target=\"_parent\"><img src=\"https://colab.research.google.com/assets/colab-badge.svg\" alt=\"Open In Colab\"/></a>"
      ]
    },
    {
      "cell_type": "code",
      "execution_count": null,
      "metadata": {
        "id": "abL2qEcLW0vd"
      },
      "outputs": [],
      "source": [
        "testestestestesstetste\n"
      ]
    },
    {
      "cell_type": "code",
      "source": [
        "fdhsdfghds"
      ],
      "metadata": {
        "id": "CFs8w7iGYIFn"
      },
      "execution_count": null,
      "outputs": []
    },
    {
      "cell_type": "code",
      "source": [
        "fikgbvhjndfklshnglkdsfhjgkdsjfgk"
      ],
      "metadata": {
        "id": "jg3ycDc2bGo2"
      },
      "execution_count": null,
      "outputs": []
    }
  ]
}