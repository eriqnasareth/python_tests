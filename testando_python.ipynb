{
  "nbformat": 4,
  "nbformat_minor": 0,
  "metadata": {
    "colab": {
      "provenance": [],
      "authorship_tag": "ABX9TyPTcirLXt9Tqdps7sfM7YOH",
      "include_colab_link": true
    },
    "kernelspec": {
      "name": "python3",
      "display_name": "Python 3"
    },
    "language_info": {
      "name": "python"
    }
  },
  "cells": [
    {
      "cell_type": "markdown",
      "metadata": {
        "id": "view-in-github",
        "colab_type": "text"
      },
      "source": [
        "<a href=\"https://colab.research.google.com/github/eriqnasareth/python_tests/blob/main/testando_python.ipynb\" target=\"_parent\"><img src=\"https://colab.research.google.com/assets/colab-badge.svg\" alt=\"Open In Colab\"/></a>"
      ]
    },
    {
      "cell_type": "markdown",
      "source": [
        "4A - Watermelon"
      ],
      "metadata": {
        "id": "xPbkqR5Hi0X3"
      }
    },
    {
      "cell_type": "code",
      "execution_count": 6,
      "metadata": {
        "colab": {
          "base_uri": "https://localhost:8080/"
        },
        "id": "abL2qEcLW0vd",
        "outputId": "44133df0-e9f7-4c5b-b413-f6bbdd32c55d"
      },
      "outputs": [
        {
          "output_type": "stream",
          "name": "stdout",
          "text": [
            "12\n",
            "YES\n"
          ]
        }
      ],
      "source": [
        "w = int(input())\n",
        "\n",
        "if w%2 == 0 and w > 2:\n",
        "  print(\"YES\")\n",
        "else:\n",
        "  print(\"NO\")"
      ]
    },
    {
      "cell_type": "markdown",
      "source": [
        "71A - Way Too Long Words"
      ],
      "metadata": {
        "id": "ofTcHsO9i57x"
      }
    },
    {
      "cell_type": "code",
      "source": [
        "n = int(input())\n",
        "\n",
        "for i in range(n):\n",
        "  word = input()\n",
        "  if len(word) > 10:\n",
        "    print(word[0] + str(len(word) - 2) + word[-1])\n",
        "  else:\n",
        "    print(word)"
      ],
      "metadata": {
        "colab": {
          "base_uri": "https://localhost:8080/"
        },
        "id": "ftCHygWGi9a0",
        "outputId": "95f5115f-91fb-448e-cf34-3bc5443235d7"
      },
      "execution_count": 18,
      "outputs": [
        {
          "output_type": "stream",
          "name": "stdout",
          "text": [
            "1\n",
            "abla\n",
            "abla\n"
          ]
        }
      ]
    },
    {
      "cell_type": "markdown",
      "source": [
        "231A - Team"
      ],
      "metadata": {
        "id": "YDujMc0okrEE"
      }
    },
    {
      "cell_type": "code",
      "source": [
        "n = int(input())\n",
        "accepted = 0\n",
        "\n",
        "\n",
        "for i in range(n):\n",
        "  sure = list(map(int, input().split()))\n",
        "  if sum(sure) >= 2:\n",
        "    accepted += 1\n",
        "\n",
        "print(accepted)"
      ],
      "metadata": {
        "colab": {
          "base_uri": "https://localhost:8080/"
        },
        "id": "X4QCzPBLkt56",
        "outputId": "6330d5af-9321-47c7-9ca2-56781ee1b63b"
      },
      "execution_count": 16,
      "outputs": [
        {
          "output_type": "stream",
          "name": "stdout",
          "text": [
            "3\n",
            "1 0 1\n",
            "[1, 0, 1]\n",
            "1 0 1\n",
            "[1, 0, 1]\n",
            "0 0 0\n",
            "[0, 0, 0]\n",
            "2\n"
          ]
        }
      ]
    }
  ]
}